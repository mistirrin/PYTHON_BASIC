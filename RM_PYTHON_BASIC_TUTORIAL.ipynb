{
 "cells": [
  {
   "cell_type": "code",
   "execution_count": 1,
   "metadata": {},
   "outputs": [],
   "source": [
    "%load_ext rpy2.ipython"
   ]
  },
  {
   "cell_type": "markdown",
   "metadata": {},
   "source": [
    "# PYTHON PRIMER"
   ]
  },
  {
   "cell_type": "markdown",
   "metadata": {},
   "source": [
    "This *Jupyter notebook* is meant to be used as a primer on the following topics:\n",
    "- [Programming](#prog)\n",
    " - [Intro](#prog_intro)\n",
    " - [SQL vs Programming](#prog_sqlvsprog)\n",
    "- [Jupyter Notebooks Basics](#jn)\n",
    " - [Introduction to Jupyter Notebooks](#jn_intro)\n",
    " - [Installing Jupyter Notebooks](#jn_install)\n",
    " - [Starting with Jupyter Notebooks](#jn_start)\n",
    " - [Notebook cells](#jn_cells)\n",
    "   - [Adding/Removing cells](#jn_cells_add)\n",
    "   - [Code cells](#jn_cells_code)\n",
    "   - [Hypertext cells](#jn_cells_hypertext)\n",
    "- [Python Basics](#py)\n",
    " - [Variables](#py_vars)\n",
    "   - [Intro](#py_vars_intro)\n",
    "   - [Variable assignment](#py_vars_assign)\n",
    "   - [Variable names](#py_vars_names)\n",
    " - [Data Types](#py_dtypes)\n",
    "   - [Intro](#py_dtypes_intro)\n",
    "   - [Numerical](#py_dtypes_numerical)\n",
    "   - [Strings](#py_dtypes_strings)\n",
    "   - [Boolean](#py_dtypes_boolean)\n",
    " - [Data Structures](#py_dstructs)\n",
    "   - [Intro](#py_dstructs_intro)\n",
    "   - [Lists](#py_dstructs_lists)\n",
    "   - [Dictionaries](#py_dstructs_dicts)\n",
    " - [Indexing](#py_index)\n",
    "   - [Intro](#py_index_intro)\n",
    "   - [Zero-based Index](#py_index_zero)\n",
    "   - [Negative Index](#py_index_negative)\n",
    "   - [Sequence Index](#py_index_sequence)\n",
    " - [Indentation](#py_indentation)\n",
    " - [Modules](#py_modules)\n",
    "   - [Intro](#py_modules_intro)\n",
    "   - [Installing Modules](#py_modules_install)\n",
    "   - [Loading Modules](#py_modules_load)\n",
    "   - [Aliasing Modules](#py_modules_alias)\n",
    " - [Functions](#py_funcs)\n",
    "   - [Intro](#py_funcs_intro)\n",
    "   - [Calling a Function](#py_funcs_call)\n",
    "   - [Chaining Functions](#py_funcs_chain)\n",
    "   - [Defining a Function](#py_funcs_define)\n",
    " - [Flow Control](#py_flow)\n",
    "   - [If Else](#py_flow_ifelse)\n",
    "   - [For Loops](#py_flow_for)\n",
    " - [Resources](#py_resources)"
   ]
  },
  {
   "cell_type": "markdown",
   "metadata": {},
   "source": [
    "____"
   ]
  },
  {
   "cell_type": "markdown",
   "metadata": {},
   "source": [
    "## Programming <a class=\"anchor\" id=\"prog\"></a>"
   ]
  },
  {
   "cell_type": "markdown",
   "metadata": {},
   "source": [
    "**Intro** <a class=\"anchor\" id=\"prog_intro\"></a>"
   ]
  },
  {
   "cell_type": "markdown",
   "metadata": {},
   "source": [
    "\"Programming is the process of taking an algorithm (a set of instructions) and encoding it into a notation, a programming language, so that it can be executed by a computer.\"\n",
    "\n",
    "Typically, programming languages are general-purpose. That is, programming languages allow you to do any kind of application. Anything from Chrome to Jabber, from Tableau to Odyssey was once coded (and it is still maintain) using one (or more) programming languages."
   ]
  },
  {
   "cell_type": "markdown",
   "metadata": {},
   "source": [
    "**SQL vs Programming** <a class=\"anchor\" id=\"prog_sqlvsprog\"></a>"
   ]
  },
  {
   "cell_type": "markdown",
   "metadata": {},
   "source": [
    "While SQL may look like a programming language - after all, it encodes a set of instructions understood by a computer - some people debate it is not in fact a full-fledged programming language. This is because SQL's funcitonality is fairly limited.\n",
    "\n",
    "In practice, SQL is only used along with a relational database in order to extract, transform or load data. While a programming language like Python or R are much more powerful and can be used to do more complex stuff like creating a Graphical User Interface, connecting to other type of data sources (reading excel files), scrapping websites, etc.\n",
    "\n",
    "In general, **think of SQL as the tool to retrieve data from a database, and a programming language as a tool to consume and perform actions on said data.**"
   ]
  },
  {
   "cell_type": "markdown",
   "metadata": {},
   "source": [
    "____"
   ]
  },
  {
   "cell_type": "markdown",
   "metadata": {},
   "source": [
    "## Jupyter Notebooks <a class=\"anchor\" id=\"jn\"></a>"
   ]
  },
  {
   "cell_type": "markdown",
   "metadata": {},
   "source": [
    "**Introduction to Jupyter Notebooks** <a class=\"anchor\" id=\"jn_intro\"></a>"
   ]
  },
  {
   "cell_type": "markdown",
   "metadata": {},
   "source": [
    "As mentioned before, this document is called a *Jupyter notebook*."
   ]
  },
  {
   "cell_type": "markdown",
   "metadata": {},
   "source": [
    "Notebooks are a different way of organizing code while mixing it with other media resources to create documents that are rich in content. These documents are therefore more user-friendly, specially for presentations."
   ]
  },
  {
   "cell_type": "markdown",
   "metadata": {},
   "source": [
    "**Installing Jupyter Notebooks** <a class=\"anchor\" id=\"jn_install\"></a>"
   ]
  },
  {
   "cell_type": "markdown",
   "metadata": {},
   "source": [
    "In order to start using *Jupyter notebooks*, the first thing needed is to install Python. I recommend installing *Anaconda*, a Python distribution that bundles many useful tools related to working with Python."
   ]
  },
  {
   "cell_type": "markdown",
   "metadata": {},
   "source": [
    "You can get *Anaconda* at __[https://www.anaconda.com/download/](https://www.anaconda.com/download/)__."
   ]
  },
  {
   "cell_type": "markdown",
   "metadata": {},
   "source": [
    "* Be sure to checkout *Miniconda* if you ever need a lighter version of the product."
   ]
  },
  {
   "cell_type": "markdown",
   "metadata": {},
   "source": [
    "One of the tools that come bundled in *Anaconda* is *Jupyter Lab*. *Jupyter Lab* is what I will be using during the presentation."
   ]
  },
  {
   "cell_type": "markdown",
   "metadata": {},
   "source": [
    "If you are looking for a similar GUI to that of *RStudio*, *Anacaonda* comes with *Spyder*:"
   ]
  },
  {
   "cell_type": "markdown",
   "metadata": {},
   "source": [
    "- RStudio"
   ]
  },
  {
   "cell_type": "markdown",
   "metadata": {},
   "source": [
    "![rstudio](rstudio.png)"
   ]
  },
  {
   "cell_type": "markdown",
   "metadata": {},
   "source": [
    "- Spyder"
   ]
  },
  {
   "cell_type": "markdown",
   "metadata": {},
   "source": [
    "![spyder](spyder.png)"
   ]
  },
  {
   "cell_type": "markdown",
   "metadata": {},
   "source": [
    "**Starting Jupyter Notebooks** <a class=\"anchor\" id=\"jn_start\"></a>"
   ]
  },
  {
   "cell_type": "markdown",
   "metadata": {},
   "source": [
    "To start *Jupyter Notebooks* you can start *Anaconda Prompt*..."
   ]
  },
  {
   "cell_type": "markdown",
   "metadata": {},
   "source": [
    "![anacondaprompt](anacondaprompt.png)"
   ]
  },
  {
   "cell_type": "markdown",
   "metadata": {},
   "source": [
    "Move to the directory you want as your working directory and input **jupyter labs** (or **jupyter notebook**)..."
   ]
  },
  {
   "cell_type": "markdown",
   "metadata": {},
   "source": [
    "![jupyterlab](jupyterlab.png)"
   ]
  },
  {
   "cell_type": "markdown",
   "metadata": {},
   "source": [
    "**Notebook Cells** <a class=\"anchor\" id=\"jn_cells\"></a>"
   ]
  },
  {
   "cell_type": "markdown",
   "metadata": {},
   "source": [
    "A notebook consists of two types of cells:\n",
    "    - Code cells: The content of these cells is parsed and runs by the Python interpreter.\n",
    "    - Hypertext cells: These cells can contain anything - standard text, LaTeX, HTML, images, etc."
   ]
  },
  {
   "cell_type": "markdown",
   "metadata": {},
   "source": [
    "You can run a cell with code by selecting it (a selected cell will have a blue indicator to the left) and pressing *Ctrl + Enter* to execute the code and display output (if any)."
   ]
  },
  {
   "cell_type": "markdown",
   "metadata": {},
   "source": [
    "Similarly, *Ctrl + Enter* will format the contents of a cell with hypertext."
   ]
  },
  {
   "cell_type": "markdown",
   "metadata": {},
   "source": [
    "To **switch between a code and hypertext** cell, select the cell and press __Y__ for code or __M__ for hypertext."
   ]
  },
  {
   "cell_type": "markdown",
   "metadata": {},
   "source": [
    "**Adding/Removing cells** <a class=\"anchor\" id=\"jn_cells_add\"></a>"
   ]
  },
  {
   "cell_type": "markdown",
   "metadata": {},
   "source": [
    "A cell can be added to a notebook by selecting an existing cell (i.e. clicking on it) and pressing the keys:\n",
    "* '**A**' if you want to add the cell **A**bove the selected cell.\n",
    "* '**B**' if you want to add the cell **B**elow the selected cell."
   ]
  },
  {
   "cell_type": "markdown",
   "metadata": {},
   "source": [
    "**<font color='red'>Exercise:</font>**\n",
    "Create a cell above and below this cell."
   ]
  },
  {
   "cell_type": "markdown",
   "metadata": {},
   "source": [
    "**Code cells** <a class=\"anchor\" id=\"jn_cells_code\"></a>"
   ]
  },
  {
   "cell_type": "markdown",
   "metadata": {},
   "source": [
    "Behind each *Jupyter notebook* there is a Python interpreter. The interpreter is in charge of parsing and running the lines of code written in the *Code cells*. The output of the code (i.e. when using the print function) will be redirected and displayed in the notebook."
   ]
  },
  {
   "cell_type": "markdown",
   "metadata": {},
   "source": [
    "The the last line of code on each cell will always be printed (as long as it is not a variable assignment):"
   ]
  },
  {
   "cell_type": "code",
   "execution_count": 2,
   "metadata": {},
   "outputs": [],
   "source": [
    "# Cell with variable assignment, no result printed\n",
    "capacity = 180\n",
    "res_hold = 99"
   ]
  },
  {
   "cell_type": "code",
   "execution_count": 3,
   "metadata": {},
   "outputs": [
    {
     "data": {
      "text/plain": [
       "0.55"
      ]
     },
     "execution_count": 3,
     "metadata": {},
     "output_type": "execute_result"
    }
   ],
   "source": [
    "# The last line of this cell is not a variable assignment\n",
    "ldf = res_hold/capacity\n",
    "ldf"
   ]
  },
  {
   "cell_type": "markdown",
   "metadata": {},
   "source": [
    "Note that anything that you declare in one cell, will be common to the whole notebook (i.e. object definitions, variables, etc.)."
   ]
  },
  {
   "cell_type": "markdown",
   "metadata": {},
   "source": [
    "You can explicitly print results to the notebook by applying the *print* function:"
   ]
  },
  {
   "cell_type": "code",
   "execution_count": 4,
   "metadata": {},
   "outputs": [
    {
     "name": "stdout",
     "output_type": "stream",
     "text": [
      "The legacy airlines are:\n",
      "- AA\n",
      "- DL\n",
      "- UA\n"
     ]
    },
    {
     "data": {
      "text/plain": [
       "'These are all based in the US'"
      ]
     },
     "execution_count": 4,
     "metadata": {},
     "output_type": "execute_result"
    }
   ],
   "source": [
    "print('The legacy airlines are:')\n",
    "for airline in ['AA','DL','UA']:\n",
    "    print('-',airline)\n",
    "'These are all based in the US'"
   ]
  },
  {
   "cell_type": "markdown",
   "metadata": {},
   "source": [
    "In order to display the documentation of functions packages and modules you can always use the ? operator."
   ]
  },
  {
   "cell_type": "code",
   "execution_count": 5,
   "metadata": {},
   "outputs": [
    {
     "data": {
      "text/plain": [
       "\u001b[1;31mDocstring:\u001b[0m\n",
       "S.replace(old, new[, count]) -> str\n",
       "\n",
       "Return a copy of S with all occurrences of substring\n",
       "old replaced by new.  If the optional argument count is\n",
       "given, only the first count occurrences are replaced.\n",
       "\u001b[1;31mType:\u001b[0m      method_descriptor\n"
      ]
     },
     "metadata": {},
     "output_type": "display_data"
    }
   ],
   "source": [
    "?str.replace"
   ]
  },
  {
   "cell_type": "markdown",
   "metadata": {},
   "source": [
    "**Hypertext cells** <a class=\"anchor\" id=\"jn_cells_hypertext\"></a>"
   ]
  },
  {
   "cell_type": "markdown",
   "metadata": {},
   "source": [
    "Hypertext cells are pretty flexible, they accept raw text as well as text in other formats."
   ]
  },
  {
   "cell_type": "markdown",
   "metadata": {},
   "source": [
    "- Raw Text is parsed as Markdown (a short-hand form of HTML):  \n",
    "*This text* contains **many elements** of ~~markdown~~"
   ]
  },
  {
   "cell_type": "markdown",
   "metadata": {},
   "source": [
    "- Tables can also be written using markdown:\n",
    "\n",
    "| Tables        | Are           | Cool  |\n",
    "| ------------- |:-------------:| -----:|\n",
    "| col 3 is      | right-aligned | $1600 |\n",
    "| col 2 is      | centered      |   $12 |\n",
    "| zebra stripes | are neat      |    $1 |"
   ]
  },
  {
   "cell_type": "markdown",
   "metadata": {},
   "source": [
    "- TeX for Math functions can be included: \n",
    "$-b \\pm \\sqrt{b^2 - 4ac} \\over 2a$  \n",
    "$x = a_0 + \\frac{1}{a_1 + \\frac{1}{a_2 + \\frac{1}{a_3 + a_4}}}$  \n",
    "$\\forall x \\in X, \\quad \\exists y \\leq \\epsilon$"
   ]
  },
  {
   "cell_type": "markdown",
   "metadata": {},
   "source": [
    "* Inline HTML can be written as well: \n",
    "\n",
    "<style>\n",
    "th {\n",
    "background-color:#55FF33;\n",
    "}\n",
    "td {\n",
    "background-color:#00FFFF;\n",
    "}\n",
    "</style>\n",
    "\n",
    "<table><tr><th>bar</th><th>bar</th></tr><tr><td>foo</td><td>foo</td></tr></table>"
   ]
  },
  {
   "cell_type": "markdown",
   "metadata": {},
   "source": [
    "- Images can be added from the web with HTML:  \n",
    "<img src=\"https://smlogin.aa.com/login/images/aa-logo.gif\" alt=\"American Airlines Logo\">"
   ]
  },
  {
   "cell_type": "markdown",
   "metadata": {},
   "source": [
    "- Or from a local source with markdown:  \n",
    "![aa-livery](American-Airlines.jpg)"
   ]
  },
  {
   "cell_type": "markdown",
   "metadata": {},
   "source": [
    "Other media can be added by using code cells..."
   ]
  },
  {
   "cell_type": "code",
   "execution_count": 6,
   "metadata": {},
   "outputs": [
    {
     "data": {
      "text/html": [
       "\n",
       "        <iframe\n",
       "            width=\"400\"\n",
       "            height=\"300\"\n",
       "            src=\"https://www.youtube.com/embed/dQw4w9WgXcQ\"\n",
       "            frameborder=\"0\"\n",
       "            allowfullscreen\n",
       "        ></iframe>\n",
       "        "
      ],
      "text/plain": [
       "<IPython.lib.display.YouTubeVideo at 0xed304e0>"
      ]
     },
     "execution_count": 6,
     "metadata": {},
     "output_type": "execute_result"
    }
   ],
   "source": [
    "from IPython.display import YouTubeVideo\n",
    "YouTubeVideo('dQw4w9WgXcQ')"
   ]
  },
  {
   "cell_type": "markdown",
   "metadata": {},
   "source": [
    "_____"
   ]
  },
  {
   "cell_type": "markdown",
   "metadata": {},
   "source": [
    "# Python Basics <a class=\"anchor\" id=\"py\"></a>"
   ]
  },
  {
   "cell_type": "markdown",
   "metadata": {},
   "source": [
    "## Variables <a class=\"anchor\" id=\"py_vars\"></a>"
   ]
  },
  {
   "cell_type": "markdown",
   "metadata": {},
   "source": [
    "**What is a variable** <a class=\"anchor\" id=\"py_vars_intro\"></a>"
   ]
  },
  {
   "cell_type": "markdown",
   "metadata": {},
   "source": [
    "Variables are nothing but __reserved computer memory locations to store values__. This means that when you create a variable you reserve some space in a computer's memory.After a variable is created, you can refer to the stored value by utilizing the name of the variable."
   ]
  },
  {
   "cell_type": "markdown",
   "metadata": {},
   "source": [
    "**Variable assignment** <a class=\"anchor\" id=\"py_vars_assign\"></a>"
   ]
  },
  {
   "cell_type": "markdown",
   "metadata": {},
   "source": [
    "A variable is created with an **assignment command**"
   ]
  },
  {
   "cell_type": "code",
   "execution_count": 7,
   "metadata": {},
   "outputs": [
    {
     "data": {
      "text/plain": [
       "5"
      ]
     },
     "execution_count": 7,
     "metadata": {},
     "output_type": "execute_result"
    }
   ],
   "source": [
    "my_first_variable = 5\n",
    "my_first_variable"
   ]
  },
  {
   "cell_type": "markdown",
   "metadata": {},
   "source": [
    "A variable can be created from other variables"
   ]
  },
  {
   "cell_type": "code",
   "execution_count": 8,
   "metadata": {},
   "outputs": [
    {
     "data": {
      "text/plain": [
       "10"
      ]
     },
     "execution_count": 8,
     "metadata": {},
     "output_type": "execute_result"
    }
   ],
   "source": [
    "my_second_variable = my_first_variable + my_first_variable\n",
    "my_second_variable"
   ]
  },
  {
   "cell_type": "markdown",
   "metadata": {},
   "source": [
    "A variable can be reassigned a value with another assignment command"
   ]
  },
  {
   "cell_type": "code",
   "execution_count": 9,
   "metadata": {},
   "outputs": [
    {
     "data": {
      "text/plain": [
       "6"
      ]
     },
     "execution_count": 9,
     "metadata": {},
     "output_type": "execute_result"
    }
   ],
   "source": [
    "my_first_variable = my_first_variable + 1\n",
    "my_first_variable"
   ]
  },
  {
   "cell_type": "code",
   "execution_count": 10,
   "metadata": {},
   "outputs": [
    {
     "data": {
      "text/plain": [
       "10"
      ]
     },
     "execution_count": 10,
     "metadata": {},
     "output_type": "execute_result"
    }
   ],
   "source": [
    "# Notice how reassigning the value of my_first_variable does not change the value of my_second_variable\n",
    "my_second_variable"
   ]
  },
  {
   "cell_type": "markdown",
   "metadata": {},
   "source": [
    "**<font color='red'>Exercise:</font>** Declare a variable *my_name* with your name, and a variable *my_age* with your age."
   ]
  },
  {
   "cell_type": "code",
   "execution_count": 11,
   "metadata": {},
   "outputs": [],
   "source": [
    "# PUT YOUR CODE HERE\n",
    "\n",
    "\n",
    "\n",
    "\n",
    "# =)"
   ]
  },
  {
   "cell_type": "markdown",
   "metadata": {},
   "source": [
    "**Variable Names** <a class=\"anchor\" id=\"py_vars_names\"></a>"
   ]
  },
  {
   "cell_type": "markdown",
   "metadata": {},
   "source": [
    "A variable can have a short name (like x and y) or a more descriptive name (age, carname, total_volume). Rules for Python variables:  \n",
    "* A variable name must start with a letter or the underscore character\n",
    "* A variable name cannot start with a number\n",
    "* A variable name can only contain alpha-numeric characters and underscores (A-z, 0-9, and _ )\n",
    "* Variable names are case-sensitive (age, Age and AGE are three different variables)"
   ]
  },
  {
   "cell_type": "code",
   "execution_count": 12,
   "metadata": {},
   "outputs": [],
   "source": [
    "ten = 10\n",
    "TEN = 'ten'\n",
    "TeN = 10000\n",
    "tEn = 0.10"
   ]
  },
  {
   "cell_type": "code",
   "execution_count": 13,
   "metadata": {},
   "outputs": [
    {
     "data": {
      "text/plain": [
       "(10, 'ten', 10000, 0.1)"
      ]
     },
     "execution_count": 13,
     "metadata": {},
     "output_type": "execute_result"
    }
   ],
   "source": [
    "# printing the values on each variable defined in the previous cell\n",
    "ten, TEN, TeN, tEn"
   ]
  },
  {
   "cell_type": "markdown",
   "metadata": {},
   "source": [
    "## Data Types <a class=\"anchor\" id=\"py_dtypes\"></a>"
   ]
  },
  {
   "cell_type": "markdown",
   "metadata": {},
   "source": [
    "**Intro** <a class=\"anchor\" id=\"py_dtypes_intro\"></a>"
   ]
  },
  {
   "cell_type": "markdown",
   "metadata": {},
   "source": [
    "Objects in Python can be of many different data types, the most basic and common being numerical, strings and booleans.  \n",
    "An object's type will determine what kind of operations can be applied to them."
   ]
  },
  {
   "cell_type": "markdown",
   "metadata": {},
   "source": [
    "**Numerical** <a class=\"anchor\" id=\"py_dtypes_numerical\"></a>"
   ]
  },
  {
   "cell_type": "markdown",
   "metadata": {},
   "source": [
    "We've seen the numerical data type before. Numerical data-type objects (values/variables) can be used in mathematical operations."
   ]
  },
  {
   "cell_type": "code",
   "execution_count": 14,
   "metadata": {},
   "outputs": [
    {
     "name": "stdout",
     "output_type": "stream",
     "text": [
      "4.5\n",
      "-2.5\n",
      "5.0\n",
      "1.25\n",
      "6.25\n"
     ]
    },
    {
     "data": {
      "text/plain": [
       "3.2015621187164243"
      ]
     },
     "execution_count": 14,
     "metadata": {},
     "output_type": "execute_result"
    }
   ],
   "source": [
    "# CREATING TWO NUMERICAL VARIABLES\n",
    "a = 2.5 # A quantity with decimals is called a Float\n",
    "b = 2 # A quantity without decimals is called an Integer\n",
    "\n",
    "# ADDITION\n",
    "print(a + b)\n",
    "# SUBSTRACTION\n",
    "print(a - 5)\n",
    "# MULTIPLICATION\n",
    "print(a * b)\n",
    "# DIVISION\n",
    "print(a / b)\n",
    "# EXPONENTIATION\n",
    "print(a ** b)\n",
    "\n",
    "# COMBINATION\n",
    "c = (a ** 2 + b **2) ** (0.5)\n",
    "c"
   ]
  },
  {
   "cell_type": "markdown",
   "metadata": {},
   "source": [
    "**Strings** <a class=\"anchor\" id=\"py_dtypes_strings\"></a>"
   ]
  },
  {
   "cell_type": "markdown",
   "metadata": {},
   "source": [
    "A string variable is a variable that holds text. As expected, mathematical operations will not work for string type variables. Nevertheless, string variables have other useful operations."
   ]
  },
  {
   "cell_type": "code",
   "execution_count": 15,
   "metadata": {},
   "outputs": [
    {
     "name": "stdout",
     "output_type": "stream",
     "text": [
      "GDLDFW\n",
      "GDLGDLGDLGDLGDL\n"
     ]
    }
   ],
   "source": [
    "destination = 'DFW'\n",
    "origin = 'GDL'\n",
    "\n",
    "# CONCATENATION\n",
    "market = origin + destination\n",
    "print(market)\n",
    "# REPETITION\n",
    "print(origin * 5)"
   ]
  },
  {
   "cell_type": "markdown",
   "metadata": {},
   "source": [
    "**Booleans** <a class=\"anchor\" id=\"py_dtypes_boolean\"></a>"
   ]
  },
  {
   "cell_type": "markdown",
   "metadata": {},
   "source": [
    "Boolean variables can only have two values: True or False. These kind of values are very useful in controlling the flow of your code. As with other data types, booleans can be used in (boolean-specific) operations."
   ]
  },
  {
   "cell_type": "code",
   "execution_count": 16,
   "metadata": {},
   "outputs": [
    {
     "name": "stdout",
     "output_type": "stream",
     "text": [
      "True\n",
      "True\n",
      "False\n"
     ]
    }
   ],
   "source": [
    "# AND\n",
    "print(True and True)\n",
    "# OR\n",
    "print(True or False)\n",
    "# NOT\n",
    "print(not True)"
   ]
  },
  {
   "cell_type": "markdown",
   "metadata": {},
   "source": [
    "## Data Structures <a class=\"anchor\" id=\"py_dstructs\"></a>"
   ]
  },
  {
   "cell_type": "markdown",
   "metadata": {},
   "source": [
    "Data structures are a more complex Data Type. They most common data structures used in python ar lists and dictionaries. They both help store multiple values in a single structure."
   ]
  },
  {
   "cell_type": "markdown",
   "metadata": {},
   "source": [
    "**Lists** <a class=\"anchor\" id=\"py_dstructs_lists\"></a>"
   ]
  },
  {
   "cell_type": "markdown",
   "metadata": {},
   "source": [
    "Lists are objects that can store multiple values on them while keeping the order of the elements. Consecutively, these values can be retrieved and/or updated at will."
   ]
  },
  {
   "cell_type": "markdown",
   "metadata": {},
   "source": [
    "A list can be created by enclosing the comma-separated elements in square brackets."
   ]
  },
  {
   "cell_type": "code",
   "execution_count": 17,
   "metadata": {},
   "outputs": [],
   "source": [
    "gdl_markets = ['GDLDFW', 'GDLPHX', 'GDLCLT']\n",
    "gdl_feb_flights = [56, 28, 26]"
   ]
  },
  {
   "cell_type": "code",
   "execution_count": 18,
   "metadata": {},
   "outputs": [
    {
     "data": {
      "text/plain": [
       "['GDLDFW', 'GDLPHX', 'GDLCLT']"
      ]
     },
     "execution_count": 18,
     "metadata": {},
     "output_type": "execute_result"
    }
   ],
   "source": [
    "gdl_markets"
   ]
  },
  {
   "cell_type": "code",
   "execution_count": 19,
   "metadata": {},
   "outputs": [
    {
     "data": {
      "text/plain": [
       "[56, 28, 26]"
      ]
     },
     "execution_count": 19,
     "metadata": {},
     "output_type": "execute_result"
    }
   ],
   "source": [
    "gdl_feb_flights"
   ]
  },
  {
   "cell_type": "markdown",
   "metadata": {},
   "source": [
    "Retrieving values from lists can be done through *indexing*. Indexing is done by list followed by a number within square brackets, the number - the index - is the position of the element to retrieve."
   ]
  },
  {
   "cell_type": "markdown",
   "metadata": {},
   "source": [
    "As with other programming languges, Python is *zero-indexed*, that is, the first element is stored in position 0."
   ]
  },
  {
   "cell_type": "code",
   "execution_count": 20,
   "metadata": {},
   "outputs": [
    {
     "name": "stdout",
     "output_type": "stream",
     "text": [
      "GDLDFW  has  56  in February 2019.\n",
      "GDLPHX  has  28  in February 2019.\n",
      "GDLCLT  has  26  in February 2019.\n"
     ]
    }
   ],
   "source": [
    "# First element on list\n",
    "print(gdl_markets[0], ' has ', gdl_feb_flights[0], ' in February 2019.')\n",
    "# Second element in list\n",
    "print(gdl_markets[1], ' has ', gdl_feb_flights[1], ' in February 2019.')\n",
    "# Third element on list\n",
    "print(gdl_markets[2], ' has ', gdl_feb_flights[2], ' in February 2019.')"
   ]
  },
  {
   "cell_type": "markdown",
   "metadata": {},
   "source": [
    "**Dictionaries** <a class=\"anchor\" id=\"py_dstructs_dicts\"></a>"
   ]
  },
  {
   "cell_type": "markdown",
   "metadata": {},
   "source": [
    "Similar to lists, dictionaries hold multiple values. Unlike lists, values in a dictionary are not associated to a numerical position. A dictionary stores its values in key-value pairs."
   ]
  },
  {
   "cell_type": "code",
   "execution_count": 21,
   "metadata": {},
   "outputs": [],
   "source": [
    "gdl_feb_pax = {'GDLDFW':7168, 'GDLPHX' : 3584, 'GDLCLT' : 1976}"
   ]
  },
  {
   "cell_type": "markdown",
   "metadata": {},
   "source": [
    "To retrieve a value from a dictionary, you must follow the dictionary with a key surrounded by square brackets."
   ]
  },
  {
   "cell_type": "code",
   "execution_count": 22,
   "metadata": {},
   "outputs": [
    {
     "name": "stdout",
     "output_type": "stream",
     "text": [
      "GDLDFW  has a Feb 2019 max capacity of  7168\n"
     ]
    }
   ],
   "source": [
    "# Retrieve GDLDFW\n",
    "print('GDLDFW', ' has a Feb 2019 max capacity of ', gdl_feb_pax['GDLDFW'])"
   ]
  },
  {
   "cell_type": "markdown",
   "metadata": {},
   "source": [
    "If a key does not exist in a dictionary, Python will return an error."
   ]
  },
  {
   "cell_type": "code",
   "execution_count": 23,
   "metadata": {},
   "outputs": [
    {
     "ename": "KeyError",
     "evalue": "'GDLORD'",
     "output_type": "error",
     "traceback": [
      "\u001b[1;31m---------------------------------------------------------------------------\u001b[0m",
      "\u001b[1;31mKeyError\u001b[0m                                  Traceback (most recent call last)",
      "\u001b[1;32m<ipython-input-23-f59d9a52f28f>\u001b[0m in \u001b[0;36m<module>\u001b[1;34m()\u001b[0m\n\u001b[1;32m----> 1\u001b[1;33m \u001b[0mgdl_feb_pax\u001b[0m\u001b[1;33m[\u001b[0m\u001b[1;34m'GDLORD'\u001b[0m\u001b[1;33m]\u001b[0m\u001b[1;33m\u001b[0m\u001b[0m\n\u001b[0m",
      "\u001b[1;31mKeyError\u001b[0m: 'GDLORD'"
     ]
    }
   ],
   "source": [
    "gdl_feb_pax['GDLORD']"
   ]
  },
  {
   "cell_type": "markdown",
   "metadata": {},
   "source": [
    "* It is important to note that there are many other Data Structures, this is only a sample!"
   ]
  },
  {
   "cell_type": "markdown",
   "metadata": {},
   "source": [
    "## Indexing <a class=\"anchor\" id=\"py_index\"></a>"
   ]
  },
  {
   "cell_type": "markdown",
   "metadata": {},
   "source": [
    "**Intro** <a class=\"anchor\" id=\"py_index_intro\"></a>"
   ]
  },
  {
   "cell_type": "markdown",
   "metadata": {},
   "source": [
    "When it comes to indexing (retrieving elements from a data structure) Python has some pretty neat in-built tricks."
   ]
  },
  {
   "cell_type": "markdown",
   "metadata": {},
   "source": [
    "**Zero-Based Indexing** <a class=\"anchor\" id=\"py_index_zero\"></a>"
   ]
  },
  {
   "cell_type": "markdown",
   "metadata": {},
   "source": [
    "Python, unlinke R, is zero-indexed. That means that the first element in data structures like strings (similar to *R*\n",
    "s *character* class) or lists (similar to *R* vectors) can be retrieved by uxing the indexing operation *[0]*."
   ]
  },
  {
   "cell_type": "code",
   "execution_count": 30,
   "metadata": {},
   "outputs": [
    {
     "name": "stdout",
     "output_type": "stream",
     "text": [
      "The first inventory in the Y cabin is O\n",
      "The second inventory in the Y cabin is Q\n"
     ]
    }
   ],
   "source": [
    "y_cabin_string = 'OQNSGVWLMKHY'\n",
    "print('The first inventory in the Y cabin is', y_cabin_string[0])\n",
    "y_cabin_list = ['O', 'Q', 'N', 'S', 'G', 'V', 'W', 'L', 'M', 'K', 'H', 'Y']# we colud have also utilized list(y_class)\n",
    "print('The second inventory in the Y cabin is', y_cabin_string[1])"
   ]
  },
  {
   "cell_type": "markdown",
   "metadata": {},
   "source": [
    "**Negative Indexing** <a class=\"anchor\" id=\"py_index_negative\"></a>"
   ]
  },
  {
   "cell_type": "markdown",
   "metadata": {},
   "source": [
    "A handy thing that sets apart *Python* from other languages is *negative indexing*. With it, you can refer to items from last to first as opposed to the traditional first to last."
   ]
  },
  {
   "cell_type": "markdown",
   "metadata": {},
   "source": [
    "For example, to retrieve the last element of a list without knowing the length of the list in R you had to do something similar to:"
   ]
  },
  {
   "cell_type": "code",
   "execution_count": 31,
   "metadata": {},
   "outputs": [],
   "source": [
    "%%R -i y_cabin_list\n",
    "y_cabin_list[length(y_cabin_list)]"
   ]
  },
  {
   "cell_type": "markdown",
   "metadata": {},
   "source": [
    "While in Python you can do the following:"
   ]
  },
  {
   "cell_type": "code",
   "execution_count": 32,
   "metadata": {},
   "outputs": [
    {
     "data": {
      "text/plain": [
       "'Y'"
      ]
     },
     "execution_count": 32,
     "metadata": {},
     "output_type": "execute_result"
    }
   ],
   "source": [
    "y_cabin_list[-1] #Getting the last element of Y CABIN"
   ]
  },
  {
   "cell_type": "markdown",
   "metadata": {},
   "source": [
    "**Sequence Indexing** <a class=\"anchor\" id=\"py_index_sequence\"></a>"
   ]
  },
  {
   "cell_type": "markdown",
   "metadata": {},
   "source": [
    "If you wanted to grab specific subsets of a data structure like a list you could use *sequence indexing*:"
   ]
  },
  {
   "cell_type": "code",
   "execution_count": 33,
   "metadata": {},
   "outputs": [
    {
     "data": {
      "text/plain": [
       "['O', 'Q', 'N', 'S', 'G']"
      ]
     },
     "execution_count": 33,
     "metadata": {},
     "output_type": "execute_result"
    }
   ],
   "source": [
    "y_cabin_list[:5] # Firsf five inventory classes in Y CABIN"
   ]
  },
  {
   "cell_type": "code",
   "execution_count": 34,
   "metadata": {},
   "outputs": [
    {
     "data": {
      "text/plain": [
       "['L', 'M', 'K', 'H', 'Y']"
      ]
     },
     "execution_count": 34,
     "metadata": {},
     "output_type": "execute_result"
    }
   ],
   "source": [
    "y_cabin_list[-5:] # Last five inventory classes in Y CABIN"
   ]
  },
  {
   "cell_type": "code",
   "execution_count": 35,
   "metadata": {},
   "outputs": [
    {
     "data": {
      "text/plain": [
       "['V', 'W', 'L', 'M', 'K']"
      ]
     },
     "execution_count": 35,
     "metadata": {},
     "output_type": "execute_result"
    }
   ],
   "source": [
    "y_cabin_list[5:10] # A specific subset of inventory classes in Y CABIN"
   ]
  },
  {
   "cell_type": "markdown",
   "metadata": {},
   "source": [
    "You could even do something more complicated like:"
   ]
  },
  {
   "cell_type": "code",
   "execution_count": 36,
   "metadata": {},
   "outputs": [
    {
     "name": "stdout",
     "output_type": "stream",
     "text": [
      "[0, 2, 4, 6, 8]\n",
      "[3, 6, 9]\n"
     ]
    }
   ],
   "source": [
    "numbers = [0,1,2,3,4,5,6,7,8,9]\n",
    "even_numbers = numbers[::2]\n",
    "print(even_numbers)\n",
    "multiples_of_three = numbers[3::3]\n",
    "print(multiples_of_three)"
   ]
  },
  {
   "cell_type": "markdown",
   "metadata": {},
   "source": [
    "## Indentation <a class=\"anchor\" id=\"py_indentation\"></a>"
   ]
  },
  {
   "cell_type": "markdown",
   "metadata": {},
   "source": [
    "One of Python's must distinctive featuers is that it enforces human readability by getting rid of parentheses where other programming languages would use them. Instead, Python rely on indentations."
   ]
  },
  {
   "cell_type": "code",
   "execution_count": 37,
   "metadata": {},
   "outputs": [],
   "source": [
    "%%R\n",
    "# Code in R for FizzBuzz\n",
    "solveFizzBuzz = function(x) {\n",
    "  for (i in seq(1,x)) {\n",
    "    response = ''\n",
    "    if (i %% 3 == 0) {\n",
    "      response = paste0(response, 'Fizz')\n",
    "    }\n",
    "    if (i %% 5 == 0) {\n",
    "      response = paste0(response, 'Buzz')\n",
    "    }\n",
    "    if (i %% 3 != 0 & i %% 5 != 0) {\n",
    "      response = as.character(i)\n",
    "    }\n",
    "    print(response)\n",
    "  }\n",
    "}"
   ]
  },
  {
   "cell_type": "code",
   "execution_count": 38,
   "metadata": {},
   "outputs": [],
   "source": [
    "# Code in Python for FizzBuzz\n",
    "def solveFizzBuzz(x):\n",
    "    for i in range(1,x+1):\n",
    "        response = ''\n",
    "        if i % 3 == 0:\n",
    "            response += 'Fizz'\n",
    "        if i % 5 == 0:\n",
    "            response += 'Buzz'\n",
    "        if i % 3 != 0 and i % 5 != 0:\n",
    "            response = str(i)\n",
    "        print(response)    "
   ]
  },
  {
   "cell_type": "code",
   "execution_count": 39,
   "metadata": {},
   "outputs": [
    {
     "name": "stdout",
     "output_type": "stream",
     "text": [
      "1\n",
      "2\n",
      "Fizz\n",
      "4\n",
      "Buzz\n",
      "Fizz\n",
      "7\n",
      "8\n",
      "Fizz\n",
      "Buzz\n",
      "11\n",
      "Fizz\n",
      "13\n",
      "14\n",
      "FizzBuzz\n"
     ]
    }
   ],
   "source": [
    "solveFizzBuzz(15)"
   ]
  },
  {
   "cell_type": "markdown",
   "metadata": {},
   "source": [
    "## Modules <a class=\"anchor\" id=\"py_modules\"></a>"
   ]
  },
  {
   "cell_type": "markdown",
   "metadata": {},
   "source": [
    "**Intro** <a class=\"anchor\" id=\"py_modules_intro\"></a>"
   ]
  },
  {
   "cell_type": "markdown",
   "metadata": {},
   "source": [
    "*Modules* are the same as R *libraries*. They are basically code written by other people with specialized functions/objects that will make your life easier as an analyst/coder."
   ]
  },
  {
   "cell_type": "markdown",
   "metadata": {},
   "source": [
    "**Installing modules** <a class=\"anchor\" id=\"py_modules_install\"></a>"
   ]
  },
  {
   "cell_type": "markdown",
   "metadata": {},
   "source": [
    "To install any module, you can type **conda install YOUR_MODULE** on the *Anaconda Prompt* or run the following code cell:"
   ]
  },
  {
   "cell_type": "code",
   "execution_count": 40,
   "metadata": {},
   "outputs": [],
   "source": [
    "# The following line is commented to avoid installing an already installed module.\n",
    "#!conda install YOUR_MODULE "
   ]
  },
  {
   "cell_type": "markdown",
   "metadata": {},
   "source": [
    "**Loading modules** <a class=\"anchor\" id=\"py_modules_load\"></a>"
   ]
  },
  {
   "cell_type": "markdown",
   "metadata": {},
   "source": [
    "There are different ways to load a module. They are all different to enforce granularity. We'll review a few ones."
   ]
  },
  {
   "cell_type": "markdown",
   "metadata": {},
   "source": [
    "* Loading a full module:"
   ]
  },
  {
   "cell_type": "code",
   "execution_count": 41,
   "metadata": {},
   "outputs": [],
   "source": [
    "import datetime"
   ]
  },
  {
   "cell_type": "code",
   "execution_count": 42,
   "metadata": {},
   "outputs": [
    {
     "data": {
      "text/plain": [
       "datetime.datetime(2019, 1, 14, 10, 53, 10, 912562)"
      ]
     },
     "execution_count": 42,
     "metadata": {},
     "output_type": "execute_result"
    }
   ],
   "source": [
    "datetime.datetime.now() # We are calling the function now inside the time submodule inside the datetime module"
   ]
  },
  {
   "cell_type": "markdown",
   "metadata": {},
   "source": [
    "* Loading a specific submodule:"
   ]
  },
  {
   "cell_type": "code",
   "execution_count": 43,
   "metadata": {},
   "outputs": [],
   "source": [
    "from datetime import datetime, timedelta"
   ]
  },
  {
   "cell_type": "code",
   "execution_count": 44,
   "metadata": {},
   "outputs": [
    {
     "data": {
      "text/plain": [
       "datetime.datetime(2019, 1, 14, 10, 53, 11, 575556)"
      ]
     },
     "execution_count": 44,
     "metadata": {},
     "output_type": "execute_result"
    }
   ],
   "source": [
    "datetime.now() # Running the same function after loading only the datetime submodule"
   ]
  },
  {
   "cell_type": "markdown",
   "metadata": {},
   "source": [
    "**Aliasing** <a class=\"anchor\" id=\"py_modules_alias\"></a>"
   ]
  },
  {
   "cell_type": "markdown",
   "metadata": {},
   "source": [
    "Aliasing is the process of loading a module under an alias to save typing."
   ]
  },
  {
   "cell_type": "code",
   "execution_count": 45,
   "metadata": {},
   "outputs": [],
   "source": [
    "from datetime import datetime as dt"
   ]
  },
  {
   "cell_type": "code",
   "execution_count": 46,
   "metadata": {},
   "outputs": [
    {
     "data": {
      "text/plain": [
       "datetime.datetime(2019, 1, 14, 10, 53, 12, 509556)"
      ]
     },
     "execution_count": 46,
     "metadata": {},
     "output_type": "execute_result"
    }
   ],
   "source": [
    "dt.now()"
   ]
  },
  {
   "cell_type": "markdown",
   "metadata": {},
   "source": [
    "## Functions <a class=\"anchor\" id=\"py_funcs\"></a>"
   ]
  },
  {
   "cell_type": "markdown",
   "metadata": {},
   "source": [
    "**Intro** <a class=\"anchor\" id=\"py_funcs_intro\"></a>"
   ]
  },
  {
   "cell_type": "markdown",
   "metadata": {},
   "source": [
    "Functions are just pieces of code that can be run just by typing the function name. A function can accept any number of parameters and can return any number of values.\n",
    "Functions in *Python* work exactly the same as in R."
   ]
  },
  {
   "cell_type": "markdown",
   "metadata": {},
   "source": [
    "**Calling a function** <a class=\"anchor\" id=\"py_funcs_call\"></a>"
   ]
  },
  {
   "cell_type": "markdown",
   "metadata": {},
   "source": [
    "Similar to *R*, you can call a function by its name followed by a set of parantheses with any parameters."
   ]
  },
  {
   "cell_type": "code",
   "execution_count": 47,
   "metadata": {},
   "outputs": [
    {
     "name": "stdout",
     "output_type": "stream",
     "text": [
      "ABE,BWI,CLT,DFW,EWR\n",
      "['ABE', 'BWI', 'CLT', 'DFW', 'EWR']\n"
     ]
    }
   ],
   "source": [
    "airport_codes = 'ABE,    BWI,  CLT,   DFW,       EWR'\n",
    "airport_codes = airport_codes.replace(' ', '') # Substituting a substring (or regex) with another string\n",
    "print(airport_codes)\n",
    "airport_codes = airport_codes.split(sep=',') # Separate string by a substring (or regex)\n",
    "print(airport_codes)"
   ]
  },
  {
   "cell_type": "markdown",
   "metadata": {},
   "source": [
    "**Chaining functions** <a class=\"anchor\" id=\"py_funcs_chain\"></a>"
   ]
  },
  {
   "cell_type": "markdown",
   "metadata": {},
   "source": [
    "You can achieve complex operation with one-liners by using *Python*'s chaining capabilities."
   ]
  },
  {
   "cell_type": "code",
   "execution_count": 48,
   "metadata": {},
   "outputs": [
    {
     "data": {
      "text/plain": [
       "['ABE', 'BWI', 'CLT', 'DFW', 'EWR']"
      ]
     },
     "execution_count": 48,
     "metadata": {},
     "output_type": "execute_result"
    }
   ],
   "source": [
    "airport_codes = 'ABE,    BWI,  CLT,   DFW,       EWR'\n",
    "airport_codes.replace(' ','').split(',')"
   ]
  },
  {
   "cell_type": "markdown",
   "metadata": {},
   "source": [
    "In order to chain functionis, the resulting class of the left function must implement the method on the right."
   ]
  },
  {
   "cell_type": "markdown",
   "metadata": {},
   "source": [
    "**Defining functions** <a class=\"anchor\" id=\"py_funcs_define\"></a>"
   ]
  },
  {
   "cell_type": "markdown",
   "metadata": {},
   "source": [
    "In order to define/create your own functions, you use the **def** operator. If our function is to return a value, then we use the **return** keyword."
   ]
  },
  {
   "cell_type": "code",
   "execution_count": 49,
   "metadata": {},
   "outputs": [],
   "source": [
    "def directional2alpha(directional):\n",
    "    orig, dest = [directional[:3], directional[3:]] # This is called variable unpacking, we'll reference it later\n",
    "    alpha = ''.join(sorted([orig,dest]))\n",
    "    return alpha"
   ]
  },
  {
   "cell_type": "markdown",
   "metadata": {},
   "source": [
    "The function can now be called by using its name followed by the correct parameters inside parantheses:"
   ]
  },
  {
   "cell_type": "code",
   "execution_count": 50,
   "metadata": {},
   "outputs": [
    {
     "name": "stdout",
     "output_type": "stream",
     "text": [
      "CLTGDL\n",
      "CLTGDL\n"
     ]
    }
   ],
   "source": [
    "print(directional2alpha('GDLCLT'))\n",
    "print(directional2alpha('CLTGDL'))"
   ]
  },
  {
   "cell_type": "markdown",
   "metadata": {},
   "source": [
    "## Flow Control <a class=\"anchor\" id=\"py_flow\"></a>"
   ]
  },
  {
   "cell_type": "markdown",
   "metadata": {},
   "source": [
    "**If Else Statements** <a class=\"anchor\" id=\"py_flow_ifelse\"></a>"
   ]
  },
  {
   "cell_type": "markdown",
   "metadata": {},
   "source": [
    "An If Else statement lets you run selected lines of coded according to the result of a logical expression."
   ]
  },
  {
   "cell_type": "markdown",
   "metadata": {},
   "source": [
    "An If Else statement always start with the *if* keyword, followed by the logical expression and a colon (:). The following indented lines will only be run if the expression between the *if* keyword and the *colon* evaluates to true. If there are other conditions, the keywords *elif* (short for else if) and *else* can be used."
   ]
  },
  {
   "cell_type": "code",
   "execution_count": 51,
   "metadata": {},
   "outputs": [
    {
     "name": "stdout",
     "output_type": "stream",
     "text": [
      "Normal Flight\n"
     ]
    }
   ],
   "source": [
    "pax = 110\n",
    "cap = 130\n",
    "\n",
    "if pax/cap > 0.90:\n",
    "    print('Strong Flight')\n",
    "elif pax/cap > 0.80 <= 0.90:\n",
    "    print('Normal Flight')\n",
    "else:\n",
    "    print('Weak Flight')"
   ]
  },
  {
   "cell_type": "markdown",
   "metadata": {},
   "source": [
    "**For Loops** <a class=\"anchor\" id=\"py_flow_for\"></a>"
   ]
  },
  {
   "cell_type": "markdown",
   "metadata": {},
   "source": [
    "*For loops* allow you to run a couple of code lines a fixed set of times. This is usually used to iterate over the values of a list."
   ]
  },
  {
   "cell_type": "markdown",
   "metadata": {},
   "source": [
    "Usually, *For loops* contain the following elements:\n",
    "1. the key-word *follow*\n",
    "2. a variable name\n",
    "3. the key-word *in*\n",
    "4. a list (or the *range* function) on which to iterate\n",
    "5. a colon (:)  \n",
    "The following indented lines will be run as many times as there are elements on the specified list. Furthermore, for each iteration of the code, the variable specified on step 2 will take the value of the n-th element in the list."
   ]
  },
  {
   "cell_type": "code",
   "execution_count": 52,
   "metadata": {},
   "outputs": [
    {
     "name": "stdout",
     "output_type": "stream",
     "text": [
      "One of AA's hubs is LAX\n",
      "One of AA's hubs is PHX\n",
      "One of AA's hubs is DFW\n",
      "One of AA's hubs is MIA\n",
      "One of AA's hubs is CLT\n",
      "One of AA's hubs is DCA\n",
      "One of AA's hubs is JFK\n",
      "One of AA's hubs is LGA\n",
      "One of AA's hubs is ORD\n",
      "One of AA's hubs is BOS\n"
     ]
    }
   ],
   "source": [
    "hubs = ['LAX','PHX','DFW','MIA','CLT','DCA','JFK','LGA','ORD','BOS']\n",
    "for hub in hubs:\n",
    "    print(\"One of AA's hubs is\", hub)"
   ]
  },
  {
   "cell_type": "markdown",
   "metadata": {},
   "source": [
    "## Resources <a class=\"anchor\" id=\"py_resources\"></a>"
   ]
  },
  {
   "cell_type": "markdown",
   "metadata": {},
   "source": [
    "This was just a primer for Python. There are many other concepts that are useful for coding with Python but basic programs can be written with this knowledge. If you want to learn more please refer to:"
   ]
  },
  {
   "cell_type": "markdown",
   "metadata": {},
   "source": [
    "**Markup Cheatsheet**"
   ]
  },
  {
   "cell_type": "markdown",
   "metadata": {},
   "source": [
    "This is a great resource to format your hyper-text cells: https://github.com/adam-p/markdown-here/wiki/Markdown-Cheatsheet"
   ]
  },
  {
   "cell_type": "markdown",
   "metadata": {},
   "source": [
    "**Codeacademy: Learn Python 3**"
   ]
  },
  {
   "cell_type": "markdown",
   "metadata": {},
   "source": [
    "A nice interactive, free, well-rounded Python course: https://www.codecademy.com/learn/learn-python-3"
   ]
  },
  {
   "cell_type": "markdown",
   "metadata": {},
   "source": [
    "**Datacamp: Python Programmer**  \n",
    "This free, interactive online course is a must for any new aspring data analyst: https://www.datacamp.com/onboarding/learn?technology=python  \n",
    "If you are interested in more in-depth analysis classes, take a look at their other offerings."
   ]
  },
  {
   "cell_type": "markdown",
   "metadata": {},
   "source": [
    "**Automate the boring stuff**"
   ]
  },
  {
   "cell_type": "markdown",
   "metadata": {},
   "source": [
    "Great free online book for beginners with cool step-by-step projects that will help you automate tasks like webscrapping or even playing games like candy-crush: https://automatetheboringstuff.com/"
   ]
  }
 ],
 "metadata": {
  "kernelspec": {
   "display_name": "Python 3",
   "language": "python",
   "name": "python3"
  },
  "language_info": {
   "codemirror_mode": {
    "name": "ipython",
    "version": 3
   },
   "file_extension": ".py",
   "mimetype": "text/x-python",
   "name": "python",
   "nbconvert_exporter": "python",
   "pygments_lexer": "ipython3",
   "version": "3.6.4"
  }
 },
 "nbformat": 4,
 "nbformat_minor": 2
}
